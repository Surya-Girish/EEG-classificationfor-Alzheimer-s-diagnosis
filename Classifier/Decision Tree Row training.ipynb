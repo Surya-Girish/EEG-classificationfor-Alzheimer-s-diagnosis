{
 "cells": [
  {
   "cell_type": "code",
   "execution_count": 1,
   "id": "ee5d3dee",
   "metadata": {},
   "outputs": [],
   "source": [
    "# Load libraries\n",
    "import pandas as pd\n",
    "from sklearn.tree import DecisionTreeClassifier # Import Decision Tree Classifier\n",
    "from sklearn.model_selection import train_test_split # Import train_test_split function\n",
    "from sklearn import metrics #Import scikit-learn metrics module for accuracy calculation\n"
   ]
  },
  {
   "cell_type": "code",
   "execution_count": 2,
   "id": "2a9a9c18",
   "metadata": {},
   "outputs": [],
   "source": [
    "df=pd.read_csv('RowFinal1.csv')\n",
    "A=df.drop('Label',axis=1)\n",
    "\n",
    "# Split dataset into training set and test set\n",
    "X_train, X_test, y_train, y_test = train_test_split(A, df.Label, test_size=0.3, random_state=1) # 70% training and 30% test\n"
   ]
  },
  {
   "cell_type": "code",
   "execution_count": 3,
   "id": "68f62af4",
   "metadata": {},
   "outputs": [],
   "source": [
    "\n",
    "\n",
    "# Create Decision Tree classifer object\n",
    "clf = DecisionTreeClassifier()\n",
    "\n",
    "# Train Decision Tree Classifer\n",
    "clf = clf.fit(X_train,y_train)\n",
    "\n",
    "#Predict the response for test dataset\n",
    "y_pred = clf.predict(X_test)\n"
   ]
  },
  {
   "cell_type": "code",
   "execution_count": 4,
   "id": "b59761b7",
   "metadata": {},
   "outputs": [
    {
     "name": "stdout",
     "output_type": "stream",
     "text": [
      "Accuracy: 0.8389393733893937\n"
     ]
    }
   ],
   "source": [
    "# Model Accuracy, how often is the classifier correct?\n",
    "print(\"Accuracy:\",metrics.accuracy_score(y_test, y_pred))\n"
   ]
  },
  {
   "cell_type": "code",
   "execution_count": 5,
   "id": "c0fafb13",
   "metadata": {},
   "outputs": [
    {
     "name": "stdout",
     "output_type": "stream",
     "text": [
      "Precision: 0.8310238127270281\n",
      "Recall: 0.8466282894736842\n"
     ]
    }
   ],
   "source": [
    "# Model Precision: what percentage of positive tuples are labeled as such?\n",
    "print(\"Precision:\",metrics.precision_score(y_test, y_pred))\n",
    "\n",
    "# Model Recall: what percentage of positive tuples are labelled as such?\n",
    "print(\"Recall:\",metrics.recall_score(y_test, y_pred))"
   ]
  },
  {
   "cell_type": "code",
   "execution_count": 6,
   "id": "5069f9dd",
   "metadata": {},
   "outputs": [
    {
     "name": "stdout",
     "output_type": "stream",
     "text": [
      "\n",
      "\n",
      "Cross validation metrics :\n",
      "               precision    recall  f1-score   support\n",
      "\n",
      "         0.0       0.82      0.80      0.81      1713\n",
      "         1.0       0.81      0.83      0.82      1728\n",
      "\n",
      "    accuracy                           0.82      3441\n",
      "   macro avg       0.82      0.82      0.82      3441\n",
      "weighted avg       0.82      0.82      0.82      3441\n",
      "\n",
      "\n",
      "\n",
      "Cross validation metrics :\n",
      "               precision    recall  f1-score   support\n",
      "\n",
      "         0.0       0.84      0.83      0.83      1713\n",
      "         1.0       0.83      0.84      0.84      1728\n",
      "\n",
      "    accuracy                           0.83      3441\n",
      "   macro avg       0.83      0.83      0.83      3441\n",
      "weighted avg       0.83      0.83      0.83      3441\n",
      "\n",
      "\n",
      "\n",
      "Cross validation metrics :\n",
      "               precision    recall  f1-score   support\n",
      "\n",
      "         0.0       0.81      0.82      0.82      1713\n",
      "         1.0       0.82      0.81      0.82      1728\n",
      "\n",
      "    accuracy                           0.82      3441\n",
      "   macro avg       0.82      0.82      0.82      3441\n",
      "weighted avg       0.82      0.82      0.82      3441\n",
      "\n",
      "\n",
      "\n",
      "Cross validation metrics :\n",
      "               precision    recall  f1-score   support\n",
      "\n",
      "         0.0       0.83      0.82      0.82      1713\n",
      "         1.0       0.82      0.83      0.83      1728\n",
      "\n",
      "    accuracy                           0.82      3441\n",
      "   macro avg       0.82      0.82      0.82      3441\n",
      "weighted avg       0.82      0.82      0.82      3441\n",
      "\n",
      "\n",
      "\n",
      "Cross validation metrics :\n",
      "               precision    recall  f1-score   support\n",
      "\n",
      "         0.0       0.82      0.84      0.83      1713\n",
      "         1.0       0.83      0.82      0.83      1728\n",
      "\n",
      "    accuracy                           0.83      3441\n",
      "   macro avg       0.83      0.83      0.83      3441\n",
      "weighted avg       0.83      0.83      0.83      3441\n",
      "\n",
      "\n",
      "\n",
      "Cross validation metrics :\n",
      "               precision    recall  f1-score   support\n",
      "\n",
      "         0.0       0.82      0.82      0.82      1713\n",
      "         1.0       0.82      0.83      0.82      1728\n",
      "\n",
      "    accuracy                           0.82      3441\n",
      "   macro avg       0.82      0.82      0.82      3441\n",
      "weighted avg       0.82      0.82      0.82      3441\n",
      "\n",
      "\n",
      "\n",
      "Cross validation metrics :\n",
      "               precision    recall  f1-score   support\n",
      "\n",
      "         0.0       0.83      0.82      0.82      1712\n",
      "         1.0       0.82      0.83      0.83      1728\n",
      "\n",
      "    accuracy                           0.83      3440\n",
      "   macro avg       0.83      0.83      0.83      3440\n",
      "weighted avg       0.83      0.83      0.83      3440\n",
      "\n",
      "\n",
      "\n",
      "Cross validation metrics :\n",
      "               precision    recall  f1-score   support\n",
      "\n",
      "         0.0       0.83      0.83      0.83      1712\n",
      "         1.0       0.83      0.84      0.83      1728\n",
      "\n",
      "    accuracy                           0.83      3440\n",
      "   macro avg       0.83      0.83      0.83      3440\n",
      "weighted avg       0.83      0.83      0.83      3440\n",
      "\n",
      "\n",
      "\n",
      "Cross validation metrics :\n",
      "               precision    recall  f1-score   support\n",
      "\n",
      "         0.0       0.85      0.84      0.85      1712\n",
      "         1.0       0.84      0.86      0.85      1728\n",
      "\n",
      "    accuracy                           0.85      3440\n",
      "   macro avg       0.85      0.85      0.85      3440\n",
      "weighted avg       0.85      0.85      0.85      3440\n",
      "\n",
      "\n",
      "\n",
      "Cross validation metrics :\n",
      "               precision    recall  f1-score   support\n",
      "\n",
      "         0.0       0.83      0.81      0.82      1712\n",
      "         1.0       0.81      0.83      0.82      1728\n",
      "\n",
      "    accuracy                           0.82      3440\n",
      "   macro avg       0.82      0.82      0.82      3440\n",
      "weighted avg       0.82      0.82      0.82      3440\n",
      "\n",
      "Cross Validation scores: [0.81604185 0.83493171 0.8172043  0.8238884  0.82911944 0.8215635\n",
      " 0.82616279 0.83226744 0.84883721 0.82034884]\n",
      "\n",
      "\n",
      "Cross Validation accuracy: 0.827 +/- 0.009\n"
     ]
    }
   ],
   "source": [
    "from sklearn.model_selection import cross_val_score, StratifiedKFold\n",
    "import numpy as np\n",
    "from sklearn.metrics import classification_report, make_scorer, accuracy_score\n",
    "# cv=10 represents the StratifiedKFold with 10 folds\n",
    "x1=[];\n",
    "def cls_rep(y_true,y_pred):\n",
    "    \n",
    "    print ('\\n\\nCross validation metrics :\\n'\n",
    "           \n",
    "           \n",
    "           ,classification_report(y_true, y_pred))\n",
    "    x1.append(classification_report(y_true, y_pred, output_dict = True, digits = 2))\n",
    "    \n",
    "    return accuracy_score(y_true,y_pred)\n",
    "\n",
    "\n",
    "scores1 = cross_val_score(clf, X=X_train, y=y_train, cv=10, n_jobs=1, scoring = make_scorer(cls_rep))\n",
    "\n",
    " \n",
    "print('Cross Validation scores: %s' % scores1)\n",
    " \n",
    "print('\\n\\nCross Validation accuracy: %.3f +/- %.3f' % (np.mean(scores1),np.std(scores1)))"
   ]
  },
  {
   "cell_type": "code",
   "execution_count": 7,
   "id": "9630d8bb",
   "metadata": {},
   "outputs": [
    {
     "name": "stdout",
     "output_type": "stream",
     "text": [
      "[[6194 1256]\n",
      " [1119 6177]]\n"
     ]
    },
    {
     "data": {
      "image/png": "[encoded data removed]",
      "text/plain": [
       "<Figure size 640x480 with 2 Axes>"
      ]
     },
     "metadata": {},
     "output_type": "display_data"
    }
   ],
   "source": [
    "from sklearn.metrics import confusion_matrix as cm\n",
    "\n",
    "m2 = cm(y_test,y_pred)\n",
    "print(m2)\n",
    "\n",
    "import matplotlib.pyplot as plt\n",
    "import numpy as np\n",
    "import seaborn as sns\n",
    "\n",
    "\n",
    "ax= plt.subplot()\n",
    "sns.heatmap(m2, annot=True, fmt='g', ax=ax); \n",
    "# labels, title and ticks\n",
    "ax.set_xlabel('Predicted labels');ax.set_ylabel('True labels'); \n",
    "ax.set_title('Confusion Matrix for RowFinal1'); \n",
    "ax.xaxis.set_ticklabels(['Healthy', 'Demented']); ax.yaxis.set_ticklabels(['Healthy', 'Demented']);"
   ]
  },
  {
   "cell_type": "code",
   "execution_count": 10,
   "id": "316e1994",
   "metadata": {},
   "outputs": [
    {
     "name": "stdout",
     "output_type": "stream",
     "text": [
      "(10, 2)\n"
     ]
    }
   ],
   "source": [
    "x1 = pd.DataFrame(x1,index=None)\n",
    "\n",
    "f1 = [\"Label:0\",parse(x1['0.0'])]\n",
    "f2 = [\"Label:1\",parse(x1['1.0'])]\n",
    "f3 = [\"Accuracy\",(x1['accuracy'])]\n",
    "f4 = [\"Macro Avg\",parse(x1['macro avg'])]\n",
    "f5 = [\"Weighted Avg\",parse(x1['weighted avg'])]\n",
    "f6 = [\"Avg Accuracy\",'%.3f +/- %.3f' % (np.mean(scores1),np.std(scores1))]\n",
    "f = (f1,f2,f3,f4,f5,f6)\n",
    "\n",
    "f = pd.DataFrame(f, columns = ['Types','Rows'], index = None)\n",
    "\n",
    "print(f.shape)\n",
    "f.to_csv('KNNRows.csv',index=None)"
   ]
  }
 ],
 "metadata": {
  "kernelspec": {
   "display_name": "Python 3 (ipykernel)",
   "language": "python",
   "name": "python3"
  },
  "language_info": {
   "codemirror_mode": {
    "name": "ipython",
    "version": 3
   },
   "file_extension": ".py",
   "mimetype": "text/x-python",
   "name": "python",
   "nbconvert_exporter": "python",
   "pygments_lexer": "ipython3",
   "version": "3.10.9"
  }
 },
 "nbformat": 4,
 "nbformat_minor": 5
}

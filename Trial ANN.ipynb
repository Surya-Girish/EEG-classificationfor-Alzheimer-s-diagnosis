{
 "cells": [
  {
   "cell_type": "code",
   "execution_count": 24,
   "id": "494acdd3",
   "metadata": {},
   "outputs": [],
   "source": [
    "import pandas as pd\n",
    "from sklearn.preprocessing import StandardScaler\n",
    "df=pd.read_csv('ColumnFinal2.csv')\n",
    "x=df.drop('Label',axis=1)\n",
    "y=df.Label\n",
    "scaler = StandardScaler()\n",
    "x = scaler.fit_transform(x)\n"
   ]
  },
  {
   "cell_type": "code",
   "execution_count": 26,
   "id": "f2ce1dc9",
   "metadata": {},
   "outputs": [],
   "source": [
    "import torch\n",
    "import torch.nn as nn\n",
    "import torch.optim as optim\n",
    "from torch.utils.data import DataLoader, TensorDataset\n",
    "from sklearn.model_selection import train_test_split\n",
    "import numpy as np\n",
    "\n",
    "# Set random seed for reproducibility\n",
    "torch.manual_seed(42)\n",
    "class JK(nn.Module):\n",
    "    def __init__(self,units):\n",
    "        super(JK, self).__init__()\n",
    "        self.units = units\n",
    "        self.state_size = units\n",
    "        self.j_h = nn.Linear(self.units)\n",
    "        self.j_x = nn.Linear(self.units)\n",
    "        self.k_h = nn.Linear(self.units)\n",
    "        self.k_x = nn.Linear(self.units)\n",
    "    def call(self,inputs, states):\n",
    "        prev_output = states[0]\n",
    "        j = nn.sigmoid(self.j_x(inputs) + self.j_h(prev_output))\n",
    "        k = nn.sigmoid(self.k_x(inputs) + self.k_h(prev_output))\n",
    "        output = j * (1 - prev_output) + (1 - k) * prev_output\n",
    "        return output, [output]\n",
    "# Define the neural network architecture\n",
    "class NeuralNetwork(nn.Module):\n",
    "    def __init__(self):\n",
    "        super(NeuralNetwork, self).__init__()\n",
    "        self.fc1 = nn.Linear(47, 84)\n",
    "        self.fc2 = nn.Linear(84, 152)\n",
    "        self.fc3 = nn.Linear(152, 93)\n",
    "        self.fc4 = nn.Linear(93, 75)\n",
    "        self.fc5 = nn.Linear(75, 123)\n",
    "        self.fc6 = nn.Linear(123, 89)\n",
    "        self.fc7 = nn.Linear(89, 40)\n",
    "        self.fc8 = nn.Linear(40, 15)\n",
    "        self.fc9 = nn.Linear(15, 1)\n",
    "        self.tanh = nn.Tanh()\n",
    "        self.relu = nn.ReLU()\n",
    "        self.lrelu = nn.LeakyReLU()\n",
    "        self.sigmoid = nn.Sigmoid()\n",
    "        self.softmax = nn.Softmax()\n",
    "\n",
    "    def forward(self, x):\n",
    "        x = self.relu(self.fc1(x))\n",
    "        x = self.tanh(self.fc2(x))\n",
    "        x = self.lrelu(self.fc3(x))\n",
    "        x = self.relu(self.fc4(x))\n",
    "        x = self.sigmoid(self.fc5(x))\n",
    "        x = self.lrelu(self.fc6(x))\n",
    "        x = self.relu(self.fc7(x))\n",
    "        x = self.lrelu(self.fc8(x))\n",
    "        x = self.sigmoid(self.fc9(x))\n",
    "        return x\n",
    "\n",
    "# Load and preprocess the dataset\n",
    "# Assuming you have your data in a NumPy array called 'data'\n",
    "data = x  # Your dataset with shape (913, 23)\n",
    "labels = y  # Your corresponding labels with shape (913,)\n",
    "data = np.array(data)\n",
    "labels = np.array(labels)\n",
    "\n",
    "# Split the dataset into training, testing, and validation sets\n",
    "X_train, X_test, y_train, y_test = train_test_split(data, labels, test_size=0.2, random_state=42)\n",
    "\n",
    "# Convert the data to PyTorch tensors\n",
    "X_train = torch.tensor(X_train, dtype=torch.float32)\n",
    "y_train = torch.tensor(y_train, dtype=torch.float32).unsqueeze(1)  # Add an extra dimension for the output\n",
    "X_test = torch.tensor(X_test, dtype=torch.float32)\n",
    "y_test = torch.tensor(y_test, dtype=torch.float32).unsqueeze(1)\n",
    "\n",
    "\n",
    "# Create PyTorch DataLoader for efficient batch processing\n",
    "batch_size = 64\n",
    "train_dataset = TensorDataset(X_train, y_train)\n",
    "train_loader = DataLoader(train_dataset, batch_size=batch_size, shuffle=True)\n",
    "\n",
    "test_dataset = TensorDataset(X_test, y_test)\n",
    "test_loader = DataLoader(test_dataset, batch_size=batch_size, shuffle=True)\n",
    "# Define the neural network model\n",
    "model = NeuralNetwork()\n",
    "\n",
    "\n",
    "\n",
    "device=torch.device( \"cpu\")\n",
    "model.to(device)\n",
    " \n",
    "loss_fn=nn.CrossEntropyLoss()\n",
    "optimizer=optim.SGD(model.parameters(),lr=0.001,momentum=0.9)\n",
    "\n"
   ]
  },
  {
   "cell_type": "code",
   "execution_count": 41,
   "id": "29b4e27a",
   "metadata": {},
   "outputs": [],
   "source": [
    "eval_losses=[]\n",
    "eval_accu=[]\n",
    " \n",
    "def test(epoch):\n",
    "    model.eval()\n",
    "    running_loss=0\n",
    "    correct=0\n",
    "    total=0\n",
    "    with torch.no_grad():\n",
    "        for data in (test_loader):\n",
    "            images,labels=data[0].to(device),data[1].to(device)\n",
    "            outputs=model(images)\n",
    "            loss= loss_fn(outputs,labels)\n",
    "            running_loss+=loss.item()\n",
    "            _, predicted = outputs.max(1)\n",
    "            total += labels.size(0)\n",
    "            correct += predicted.eq(labels).sum().item()\n",
    "    test_loss=running_loss/len(test_loader)\n",
    "    accu=correct/total\n",
    "    eval_losses.append(test_loss)\n",
    "    eval_accu.append(accu)\n",
    "    print('Test Loss: %.3f | Accuracy: %.3f'%(test_loss,accu)) "
   ]
  },
  {
   "cell_type": "code",
   "execution_count": 40,
   "id": "af4a5ce3",
   "metadata": {},
   "outputs": [],
   "source": [
    "train_accu = []\n",
    "train_losses = []\n",
    "def train(epoch):\n",
    "    print('\\nEpoch : %d'%epoch)\n",
    "    model.train()\n",
    "    running_loss=0\n",
    "    correct=0\n",
    "    total=0\n",
    "    for data in tqdm(train_loader):\n",
    "        inputs,labels=data[0].to(device),data[1].to(device)\n",
    "        optimizer.zero_grad()\n",
    "        outputs=model(inputs)\n",
    "        loss=loss_fn(outputs,labels)\n",
    "        loss.backward()\n",
    "        optimizer.step()\n",
    "        running_loss += loss.item()\n",
    "        _, predicted = outputs.max(1)\n",
    "        total += labels.size(0)\n",
    "        correct += predicted.eq(labels).sum().item()\n",
    "    \n",
    "    train_loss=running_loss/len(train_loader)\n",
    "    accu=correct/total\n",
    "    train_accu.append(accu)\n",
    "    train_losses.append(train_loss)\n",
    "    print('Train Loss: %.3f | Accuracy: %.3f'%(train_loss,accu))"
   ]
  },
  {
   "cell_type": "code",
   "execution_count": 42,
   "id": "f5285f7f",
   "metadata": {},
   "outputs": [
    {
     "name": "stdout",
     "output_type": "stream",
     "text": [
      "\n",
      "Epoch : 1\n"
     ]
    },
    {
     "data": {
      "application/vnd.jupyter.widget-view+json": {
       "model_id": "c99930b5524f4f6e9c22b9fbe008d598",
       "version_major": 2,
       "version_minor": 0
      },
      "text/plain": [
       "  0%|          | 0/12 [00:00<?, ?it/s]"
      ]
     },
     "metadata": {},
     "output_type": "display_data"
    },
    {
     "name": "stdout",
     "output_type": "stream",
     "text": [
      "Train Loss: 0.000 | Accuracy: 31.631\n",
      "Test Loss: 0.000 | Accuracy: 29.749\n",
      "\n",
      "Epoch : 2\n"
     ]
    },
    {
     "data": {
      "application/vnd.jupyter.widget-view+json": {
       "model_id": "17d3e85cb80647aea8245a5ac80b8321",
       "version_major": 2,
       "version_minor": 0
      },
      "text/plain": [
       "  0%|          | 0/12 [00:00<?, ?it/s]"
      ]
     },
     "metadata": {},
     "output_type": "display_data"
    },
    {
     "name": "stdout",
     "output_type": "stream",
     "text": [
      "Train Loss: 0.000 | Accuracy: 31.578\n",
      "Test Loss: 0.000 | Accuracy: 30.044\n",
      "\n",
      "Epoch : 3\n"
     ]
    },
    {
     "data": {
      "application/vnd.jupyter.widget-view+json": {
       "model_id": "f7787d576c5e4b009bdf4b1ffc245784",
       "version_major": 2,
       "version_minor": 0
      },
      "text/plain": [
       "  0%|          | 0/12 [00:00<?, ?it/s]"
      ]
     },
     "metadata": {},
     "output_type": "display_data"
    },
    {
     "name": "stdout",
     "output_type": "stream",
     "text": [
      "Train Loss: 0.000 | Accuracy: 31.738\n",
      "Test Loss: 0.000 | Accuracy: 29.650\n",
      "\n",
      "Epoch : 4\n"
     ]
    },
    {
     "data": {
      "application/vnd.jupyter.widget-view+json": {
       "model_id": "968c255481994d30af8fdd8ab0e3d52b",
       "version_major": 2,
       "version_minor": 0
      },
      "text/plain": [
       "  0%|          | 0/12 [00:00<?, ?it/s]"
      ]
     },
     "metadata": {},
     "output_type": "display_data"
    },
    {
     "name": "stdout",
     "output_type": "stream",
     "text": [
      "Train Loss: 0.000 | Accuracy: 31.578\n",
      "Test Loss: 0.000 | Accuracy: 29.995\n",
      "\n",
      "Epoch : 5\n"
     ]
    },
    {
     "data": {
      "application/vnd.jupyter.widget-view+json": {
       "model_id": "2eda9a42a5754630be4a811d79f76d04",
       "version_major": 2,
       "version_minor": 0
      },
      "text/plain": [
       "  0%|          | 0/12 [00:00<?, ?it/s]"
      ]
     },
     "metadata": {},
     "output_type": "display_data"
    },
    {
     "name": "stdout",
     "output_type": "stream",
     "text": [
      "Train Loss: 0.000 | Accuracy: 31.631\n",
      "Test Loss: 0.000 | Accuracy: 29.945\n",
      "\n",
      "Epoch : 6\n"
     ]
    },
    {
     "data": {
      "application/vnd.jupyter.widget-view+json": {
       "model_id": "3001f73ab3da4b90aa9e0f14481d83ea",
       "version_major": 2,
       "version_minor": 0
      },
      "text/plain": [
       "  0%|          | 0/12 [00:00<?, ?it/s]"
      ]
     },
     "metadata": {},
     "output_type": "display_data"
    },
    {
     "name": "stdout",
     "output_type": "stream",
     "text": [
      "Train Loss: 0.000 | Accuracy: 31.471\n",
      "Test Loss: 0.000 | Accuracy: 29.945\n",
      "\n",
      "Epoch : 7\n"
     ]
    },
    {
     "data": {
      "application/vnd.jupyter.widget-view+json": {
       "model_id": "a49a7b764c5f4bed8fd2262d6f3b6226",
       "version_major": 2,
       "version_minor": 0
      },
      "text/plain": [
       "  0%|          | 0/12 [00:00<?, ?it/s]"
      ]
     },
     "metadata": {},
     "output_type": "display_data"
    },
    {
     "name": "stdout",
     "output_type": "stream",
     "text": [
      "Train Loss: 0.000 | Accuracy: 31.417\n",
      "Test Loss: 0.000 | Accuracy: 29.552\n",
      "\n",
      "Epoch : 8\n"
     ]
    },
    {
     "data": {
      "application/vnd.jupyter.widget-view+json": {
       "model_id": "5b0515fbd6d243dd809470a8696d7cb9",
       "version_major": 2,
       "version_minor": 0
      },
      "text/plain": [
       "  0%|          | 0/12 [00:00<?, ?it/s]"
      ]
     },
     "metadata": {},
     "output_type": "display_data"
    },
    {
     "name": "stdout",
     "output_type": "stream",
     "text": [
      "Train Loss: 0.000 | Accuracy: 31.578\n",
      "Test Loss: 0.000 | Accuracy: 29.699\n",
      "\n",
      "Epoch : 9\n"
     ]
    },
    {
     "data": {
      "application/vnd.jupyter.widget-view+json": {
       "model_id": "8d1dfc2061804ea2921c66eabedd34ca",
       "version_major": 2,
       "version_minor": 0
      },
      "text/plain": [
       "  0%|          | 0/12 [00:00<?, ?it/s]"
      ]
     },
     "metadata": {},
     "output_type": "display_data"
    },
    {
     "name": "stdout",
     "output_type": "stream",
     "text": [
      "Train Loss: 0.000 | Accuracy: 31.417\n",
      "Test Loss: 0.000 | Accuracy: 29.503\n",
      "\n",
      "Epoch : 10\n"
     ]
    },
    {
     "data": {
      "application/vnd.jupyter.widget-view+json": {
       "model_id": "b8309b204264400d839e1746f1283b09",
       "version_major": 2,
       "version_minor": 0
      },
      "text/plain": [
       "  0%|          | 0/12 [00:00<?, ?it/s]"
      ]
     },
     "metadata": {},
     "output_type": "display_data"
    },
    {
     "name": "stdout",
     "output_type": "stream",
     "text": [
      "Train Loss: 0.000 | Accuracy: 31.471\n",
      "Test Loss: 0.000 | Accuracy: 29.798\n",
      "\n",
      "Epoch : 11\n"
     ]
    },
    {
     "data": {
      "application/vnd.jupyter.widget-view+json": {
       "model_id": "28a48659bd17451a8d0fedb366f07087",
       "version_major": 2,
       "version_minor": 0
      },
      "text/plain": [
       "  0%|          | 0/12 [00:00<?, ?it/s]"
      ]
     },
     "metadata": {},
     "output_type": "display_data"
    },
    {
     "name": "stdout",
     "output_type": "stream",
     "text": [
      "Train Loss: 0.000 | Accuracy: 31.257\n",
      "Test Loss: 0.000 | Accuracy: 29.945\n",
      "\n",
      "Epoch : 12\n"
     ]
    },
    {
     "data": {
      "application/vnd.jupyter.widget-view+json": {
       "model_id": "a9c7273487fc420b95ca4aac79438d23",
       "version_major": 2,
       "version_minor": 0
      },
      "text/plain": [
       "  0%|          | 0/12 [00:00<?, ?it/s]"
      ]
     },
     "metadata": {},
     "output_type": "display_data"
    },
    {
     "name": "stdout",
     "output_type": "stream",
     "text": [
      "Train Loss: 0.000 | Accuracy: 31.203\n",
      "Test Loss: 0.000 | Accuracy: 29.601\n",
      "\n",
      "Epoch : 13\n"
     ]
    },
    {
     "data": {
      "application/vnd.jupyter.widget-view+json": {
       "model_id": "762a747d057a4a0fac51c018fc5bf00c",
       "version_major": 2,
       "version_minor": 0
      },
      "text/plain": [
       "  0%|          | 0/12 [00:00<?, ?it/s]"
      ]
     },
     "metadata": {},
     "output_type": "display_data"
    },
    {
     "name": "stdout",
     "output_type": "stream",
     "text": [
      "Train Loss: 0.000 | Accuracy: 31.738\n",
      "Test Loss: 0.000 | Accuracy: 29.798\n",
      "\n",
      "Epoch : 14\n"
     ]
    },
    {
     "data": {
      "application/vnd.jupyter.widget-view+json": {
       "model_id": "60c0685f9bbb4d63824e50baedffe0d6",
       "version_major": 2,
       "version_minor": 0
      },
      "text/plain": [
       "  0%|          | 0/12 [00:00<?, ?it/s]"
      ]
     },
     "metadata": {},
     "output_type": "display_data"
    },
    {
     "name": "stdout",
     "output_type": "stream",
     "text": [
      "Train Loss: 0.000 | Accuracy: 31.471\n",
      "Test Loss: 0.000 | Accuracy: 29.699\n",
      "\n",
      "Epoch : 15\n"
     ]
    },
    {
     "data": {
      "application/vnd.jupyter.widget-view+json": {
       "model_id": "f680027a18e841cbb641dabd1843dfe5",
       "version_major": 2,
       "version_minor": 0
      },
      "text/plain": [
       "  0%|          | 0/12 [00:00<?, ?it/s]"
      ]
     },
     "metadata": {},
     "output_type": "display_data"
    },
    {
     "name": "stdout",
     "output_type": "stream",
     "text": [
      "Train Loss: 0.000 | Accuracy: 31.631\n",
      "Test Loss: 0.000 | Accuracy: 29.896\n",
      "\n",
      "Epoch : 16\n"
     ]
    },
    {
     "data": {
      "application/vnd.jupyter.widget-view+json": {
       "model_id": "a52b475a4b8e4dcb9b9ef2b5348bfe53",
       "version_major": 2,
       "version_minor": 0
      },
      "text/plain": [
       "  0%|          | 0/12 [00:00<?, ?it/s]"
      ]
     },
     "metadata": {},
     "output_type": "display_data"
    },
    {
     "name": "stdout",
     "output_type": "stream",
     "text": [
      "Train Loss: 0.000 | Accuracy: 31.364\n",
      "Test Loss: 0.000 | Accuracy: 29.699\n",
      "\n",
      "Epoch : 17\n"
     ]
    },
    {
     "data": {
      "application/vnd.jupyter.widget-view+json": {
       "model_id": "081da378672442e2ae922b656ff5f749",
       "version_major": 2,
       "version_minor": 0
      },
      "text/plain": [
       "  0%|          | 0/12 [00:00<?, ?it/s]"
      ]
     },
     "metadata": {},
     "output_type": "display_data"
    },
    {
     "name": "stdout",
     "output_type": "stream",
     "text": [
      "Train Loss: 0.000 | Accuracy: 31.631\n",
      "Test Loss: 0.000 | Accuracy: 29.699\n",
      "\n",
      "Epoch : 18\n"
     ]
    },
    {
     "data": {
      "application/vnd.jupyter.widget-view+json": {
       "model_id": "6f5ba4a72626490ba7096a88fb27aad9",
       "version_major": 2,
       "version_minor": 0
      },
      "text/plain": [
       "  0%|          | 0/12 [00:00<?, ?it/s]"
      ]
     },
     "metadata": {},
     "output_type": "display_data"
    },
    {
     "name": "stdout",
     "output_type": "stream",
     "text": [
      "Train Loss: 0.000 | Accuracy: 31.738\n",
      "Test Loss: 0.000 | Accuracy: 29.650\n",
      "\n",
      "Epoch : 19\n"
     ]
    },
    {
     "data": {
      "application/vnd.jupyter.widget-view+json": {
       "model_id": "4a48fafa69ad47ec94bb4209281e50ad",
       "version_major": 2,
       "version_minor": 0
      },
      "text/plain": [
       "  0%|          | 0/12 [00:00<?, ?it/s]"
      ]
     },
     "metadata": {},
     "output_type": "display_data"
    },
    {
     "name": "stdout",
     "output_type": "stream",
     "text": [
      "Train Loss: 0.000 | Accuracy: 31.364\n",
      "Test Loss: 0.000 | Accuracy: 29.798\n",
      "\n",
      "Epoch : 20\n"
     ]
    },
    {
     "data": {
      "application/vnd.jupyter.widget-view+json": {
       "model_id": "d19f45a82e0f4867bde5e2bf754d3f6c",
       "version_major": 2,
       "version_minor": 0
      },
      "text/plain": [
       "  0%|          | 0/12 [00:00<?, ?it/s]"
      ]
     },
     "metadata": {},
     "output_type": "display_data"
    },
    {
     "name": "stdout",
     "output_type": "stream",
     "text": [
      "Train Loss: 0.000 | Accuracy: 31.364\n",
      "Test Loss: 0.000 | Accuracy: 30.044\n",
      "\n",
      "Epoch : 21\n"
     ]
    },
    {
     "data": {
      "application/vnd.jupyter.widget-view+json": {
       "model_id": "14fe61f920a543d5b2be905b696a3940",
       "version_major": 2,
       "version_minor": 0
      },
      "text/plain": [
       "  0%|          | 0/12 [00:00<?, ?it/s]"
      ]
     },
     "metadata": {},
     "output_type": "display_data"
    },
    {
     "name": "stdout",
     "output_type": "stream",
     "text": [
      "Train Loss: 0.000 | Accuracy: 31.471\n",
      "Test Loss: 0.000 | Accuracy: 29.749\n",
      "\n",
      "Epoch : 22\n"
     ]
    },
    {
     "data": {
      "application/vnd.jupyter.widget-view+json": {
       "model_id": "4e2da5b6188448cbac28f5fc38b38d04",
       "version_major": 2,
       "version_minor": 0
      },
      "text/plain": [
       "  0%|          | 0/12 [00:00<?, ?it/s]"
      ]
     },
     "metadata": {},
     "output_type": "display_data"
    },
    {
     "name": "stdout",
     "output_type": "stream",
     "text": [
      "Train Loss: 0.000 | Accuracy: 31.631\n",
      "Test Loss: 0.000 | Accuracy: 29.945\n",
      "\n",
      "Epoch : 23\n"
     ]
    },
    {
     "data": {
      "application/vnd.jupyter.widget-view+json": {
       "model_id": "d314a5491aca4563bc85273efeca69ab",
       "version_major": 2,
       "version_minor": 0
      },
      "text/plain": [
       "  0%|          | 0/12 [00:00<?, ?it/s]"
      ]
     },
     "metadata": {},
     "output_type": "display_data"
    },
    {
     "name": "stdout",
     "output_type": "stream",
     "text": [
      "Train Loss: 0.000 | Accuracy: 31.578\n",
      "Test Loss: 0.000 | Accuracy: 29.749\n",
      "\n",
      "Epoch : 24\n"
     ]
    },
    {
     "data": {
      "application/vnd.jupyter.widget-view+json": {
       "model_id": "eaf7bcd2d8d64146a77e0580a61c5763",
       "version_major": 2,
       "version_minor": 0
      },
      "text/plain": [
       "  0%|          | 0/12 [00:00<?, ?it/s]"
      ]
     },
     "metadata": {},
     "output_type": "display_data"
    },
    {
     "name": "stdout",
     "output_type": "stream",
     "text": [
      "Train Loss: 0.000 | Accuracy: 31.471\n",
      "Test Loss: 0.000 | Accuracy: 30.044\n",
      "\n",
      "Epoch : 25\n"
     ]
    },
    {
     "data": {
      "application/vnd.jupyter.widget-view+json": {
       "model_id": "124e9defb29046e287a1dc582ead2a4a",
       "version_major": 2,
       "version_minor": 0
      },
      "text/plain": [
       "  0%|          | 0/12 [00:00<?, ?it/s]"
      ]
     },
     "metadata": {},
     "output_type": "display_data"
    },
    {
     "name": "stdout",
     "output_type": "stream",
     "text": [
      "Train Loss: 0.000 | Accuracy: 31.417\n",
      "Test Loss: 0.000 | Accuracy: 29.749\n",
      "\n",
      "Epoch : 26\n"
     ]
    },
    {
     "data": {
      "application/vnd.jupyter.widget-view+json": {
       "model_id": "a11828eaaf5d48e095e129640398172b",
       "version_major": 2,
       "version_minor": 0
      },
      "text/plain": [
       "  0%|          | 0/12 [00:00<?, ?it/s]"
      ]
     },
     "metadata": {},
     "output_type": "display_data"
    },
    {
     "name": "stdout",
     "output_type": "stream",
     "text": [
      "Train Loss: 0.000 | Accuracy: 31.684\n",
      "Test Loss: 0.000 | Accuracy: 29.650\n",
      "\n",
      "Epoch : 27\n"
     ]
    },
    {
     "data": {
      "application/vnd.jupyter.widget-view+json": {
       "model_id": "27946a069ab74c1981bc951c923231e5",
       "version_major": 2,
       "version_minor": 0
      },
      "text/plain": [
       "  0%|          | 0/12 [00:00<?, ?it/s]"
      ]
     },
     "metadata": {},
     "output_type": "display_data"
    },
    {
     "name": "stdout",
     "output_type": "stream",
     "text": [
      "Train Loss: 0.000 | Accuracy: 31.257\n",
      "Test Loss: 0.000 | Accuracy: 30.142\n",
      "\n",
      "Epoch : 28\n"
     ]
    },
    {
     "data": {
      "application/vnd.jupyter.widget-view+json": {
       "model_id": "d4282f27376e4f3baf5c0942974138dd",
       "version_major": 2,
       "version_minor": 0
      },
      "text/plain": [
       "  0%|          | 0/12 [00:00<?, ?it/s]"
      ]
     },
     "metadata": {},
     "output_type": "display_data"
    },
    {
     "name": "stdout",
     "output_type": "stream",
     "text": [
      "Train Loss: 0.000 | Accuracy: 31.471\n",
      "Test Loss: 0.000 | Accuracy: 29.847\n",
      "\n",
      "Epoch : 29\n"
     ]
    },
    {
     "data": {
      "application/vnd.jupyter.widget-view+json": {
       "model_id": "01c469ca6d6043de88544b5834474d04",
       "version_major": 2,
       "version_minor": 0
      },
      "text/plain": [
       "  0%|          | 0/12 [00:00<?, ?it/s]"
      ]
     },
     "metadata": {},
     "output_type": "display_data"
    },
    {
     "name": "stdout",
     "output_type": "stream",
     "text": [
      "Train Loss: 0.000 | Accuracy: 31.631\n",
      "Test Loss: 0.000 | Accuracy: 29.699\n",
      "\n",
      "Epoch : 30\n"
     ]
    },
    {
     "data": {
      "application/vnd.jupyter.widget-view+json": {
       "model_id": "6c25889612614936807206ec43d5a7da",
       "version_major": 2,
       "version_minor": 0
      },
      "text/plain": [
       "  0%|          | 0/12 [00:00<?, ?it/s]"
      ]
     },
     "metadata": {},
     "output_type": "display_data"
    },
    {
     "name": "stdout",
     "output_type": "stream",
     "text": [
      "Train Loss: 0.000 | Accuracy: 31.738\n",
      "Test Loss: 0.000 | Accuracy: 29.503\n",
      "\n",
      "Epoch : 31\n"
     ]
    },
    {
     "data": {
      "application/vnd.jupyter.widget-view+json": {
       "model_id": "360c8677c76947d49e2230437cb4620b",
       "version_major": 2,
       "version_minor": 0
      },
      "text/plain": [
       "  0%|          | 0/12 [00:00<?, ?it/s]"
      ]
     },
     "metadata": {},
     "output_type": "display_data"
    },
    {
     "name": "stdout",
     "output_type": "stream",
     "text": [
      "Train Loss: 0.000 | Accuracy: 31.417\n",
      "Test Loss: 0.000 | Accuracy: 29.896\n",
      "\n",
      "Epoch : 32\n"
     ]
    },
    {
     "data": {
      "application/vnd.jupyter.widget-view+json": {
       "model_id": "bd48bb39a92d42f993dc916f4b3932f2",
       "version_major": 2,
       "version_minor": 0
      },
      "text/plain": [
       "  0%|          | 0/12 [00:00<?, ?it/s]"
      ]
     },
     "metadata": {},
     "output_type": "display_data"
    },
    {
     "name": "stdout",
     "output_type": "stream",
     "text": [
      "Train Loss: 0.000 | Accuracy: 31.471\n",
      "Test Loss: 0.000 | Accuracy: 29.601\n",
      "\n",
      "Epoch : 33\n"
     ]
    },
    {
     "data": {
      "application/vnd.jupyter.widget-view+json": {
       "model_id": "4062f15b603347579d4afec142ae6c57",
       "version_major": 2,
       "version_minor": 0
      },
      "text/plain": [
       "  0%|          | 0/12 [00:00<?, ?it/s]"
      ]
     },
     "metadata": {},
     "output_type": "display_data"
    },
    {
     "name": "stdout",
     "output_type": "stream",
     "text": [
      "Train Loss: 0.000 | Accuracy: 31.471\n",
      "Test Loss: 0.000 | Accuracy: 29.699\n",
      "\n",
      "Epoch : 34\n"
     ]
    },
    {
     "data": {
      "application/vnd.jupyter.widget-view+json": {
       "model_id": "5a6624c5e7c9435189ab3173c54a3506",
       "version_major": 2,
       "version_minor": 0
      },
      "text/plain": [
       "  0%|          | 0/12 [00:00<?, ?it/s]"
      ]
     },
     "metadata": {},
     "output_type": "display_data"
    },
    {
     "name": "stdout",
     "output_type": "stream",
     "text": [
      "Train Loss: 0.000 | Accuracy: 31.684\n",
      "Test Loss: 0.000 | Accuracy: 29.896\n",
      "\n",
      "Epoch : 35\n"
     ]
    },
    {
     "data": {
      "application/vnd.jupyter.widget-view+json": {
       "model_id": "21c23ad691c84e488cf6f8fb3938eecf",
       "version_major": 2,
       "version_minor": 0
      },
      "text/plain": [
       "  0%|          | 0/12 [00:00<?, ?it/s]"
      ]
     },
     "metadata": {},
     "output_type": "display_data"
    },
    {
     "name": "stdout",
     "output_type": "stream",
     "text": [
      "Train Loss: 0.000 | Accuracy: 31.417\n",
      "Test Loss: 0.000 | Accuracy: 29.749\n",
      "\n",
      "Epoch : 36\n"
     ]
    },
    {
     "data": {
      "application/vnd.jupyter.widget-view+json": {
       "model_id": "89d9177a5dfa47c4989fbe25f77250ca",
       "version_major": 2,
       "version_minor": 0
      },
      "text/plain": [
       "  0%|          | 0/12 [00:00<?, ?it/s]"
      ]
     },
     "metadata": {},
     "output_type": "display_data"
    },
    {
     "name": "stdout",
     "output_type": "stream",
     "text": [
      "Train Loss: 0.000 | Accuracy: 31.524\n",
      "Test Loss: 0.000 | Accuracy: 29.847\n",
      "\n",
      "Epoch : 37\n"
     ]
    },
    {
     "data": {
      "application/vnd.jupyter.widget-view+json": {
       "model_id": "41854e1c790f4c849bf60d4bb96ae383",
       "version_major": 2,
       "version_minor": 0
      },
      "text/plain": [
       "  0%|          | 0/12 [00:00<?, ?it/s]"
      ]
     },
     "metadata": {},
     "output_type": "display_data"
    },
    {
     "name": "stdout",
     "output_type": "stream",
     "text": [
      "Train Loss: 0.000 | Accuracy: 31.578\n",
      "Test Loss: 0.000 | Accuracy: 29.699\n",
      "\n",
      "Epoch : 38\n"
     ]
    },
    {
     "data": {
      "application/vnd.jupyter.widget-view+json": {
       "model_id": "5f56642ed38a4259902ef394f80eb62e",
       "version_major": 2,
       "version_minor": 0
      },
      "text/plain": [
       "  0%|          | 0/12 [00:00<?, ?it/s]"
      ]
     },
     "metadata": {},
     "output_type": "display_data"
    },
    {
     "name": "stdout",
     "output_type": "stream",
     "text": [
      "Train Loss: 0.000 | Accuracy: 31.791\n",
      "Test Loss: 0.000 | Accuracy: 29.749\n",
      "\n",
      "Epoch : 39\n"
     ]
    },
    {
     "data": {
      "application/vnd.jupyter.widget-view+json": {
       "model_id": "215c94026e394412b9de9f8248f50921",
       "version_major": 2,
       "version_minor": 0
      },
      "text/plain": [
       "  0%|          | 0/12 [00:00<?, ?it/s]"
      ]
     },
     "metadata": {},
     "output_type": "display_data"
    },
    {
     "name": "stdout",
     "output_type": "stream",
     "text": [
      "Train Loss: 0.000 | Accuracy: 31.578\n",
      "Test Loss: 0.000 | Accuracy: 29.699\n",
      "\n",
      "Epoch : 40\n"
     ]
    },
    {
     "data": {
      "application/vnd.jupyter.widget-view+json": {
       "model_id": "fc1d39d92f884854868631d0577a8bc7",
       "version_major": 2,
       "version_minor": 0
      },
      "text/plain": [
       "  0%|          | 0/12 [00:00<?, ?it/s]"
      ]
     },
     "metadata": {},
     "output_type": "display_data"
    },
    {
     "name": "stdout",
     "output_type": "stream",
     "text": [
      "Train Loss: 0.000 | Accuracy: 31.578\n",
      "Test Loss: 0.000 | Accuracy: 29.896\n",
      "\n",
      "Epoch : 41\n"
     ]
    },
    {
     "data": {
      "application/vnd.jupyter.widget-view+json": {
       "model_id": "a48b6976e78b4da995eed47c43a522eb",
       "version_major": 2,
       "version_minor": 0
      },
      "text/plain": [
       "  0%|          | 0/12 [00:00<?, ?it/s]"
      ]
     },
     "metadata": {},
     "output_type": "display_data"
    },
    {
     "name": "stdout",
     "output_type": "stream",
     "text": [
      "Train Loss: 0.000 | Accuracy: 31.631\n",
      "Test Loss: 0.000 | Accuracy: 29.847\n",
      "\n",
      "Epoch : 42\n"
     ]
    },
    {
     "data": {
      "application/vnd.jupyter.widget-view+json": {
       "model_id": "71af3b9568914573b6996f3d02b702c8",
       "version_major": 2,
       "version_minor": 0
      },
      "text/plain": [
       "  0%|          | 0/12 [00:00<?, ?it/s]"
      ]
     },
     "metadata": {},
     "output_type": "display_data"
    },
    {
     "name": "stdout",
     "output_type": "stream",
     "text": [
      "Train Loss: 0.000 | Accuracy: 31.578\n",
      "Test Loss: 0.000 | Accuracy: 30.093\n",
      "\n",
      "Epoch : 43\n"
     ]
    },
    {
     "data": {
      "application/vnd.jupyter.widget-view+json": {
       "model_id": "18c8f809cf424c92964c69161459803f",
       "version_major": 2,
       "version_minor": 0
      },
      "text/plain": [
       "  0%|          | 0/12 [00:00<?, ?it/s]"
      ]
     },
     "metadata": {},
     "output_type": "display_data"
    },
    {
     "name": "stdout",
     "output_type": "stream",
     "text": [
      "Train Loss: 0.000 | Accuracy: 31.417\n",
      "Test Loss: 0.000 | Accuracy: 29.798\n",
      "\n",
      "Epoch : 44\n"
     ]
    },
    {
     "data": {
      "application/vnd.jupyter.widget-view+json": {
       "model_id": "464528eeb82f4ce2bc9a534192519bf2",
       "version_major": 2,
       "version_minor": 0
      },
      "text/plain": [
       "  0%|          | 0/12 [00:00<?, ?it/s]"
      ]
     },
     "metadata": {},
     "output_type": "display_data"
    },
    {
     "name": "stdout",
     "output_type": "stream",
     "text": [
      "Train Loss: 0.000 | Accuracy: 31.738\n",
      "Test Loss: 0.000 | Accuracy: 29.749\n",
      "\n",
      "Epoch : 45\n"
     ]
    },
    {
     "data": {
      "application/vnd.jupyter.widget-view+json": {
       "model_id": "832ccb523b264fefaaa3bbef79ce48b8",
       "version_major": 2,
       "version_minor": 0
      },
      "text/plain": [
       "  0%|          | 0/12 [00:00<?, ?it/s]"
      ]
     },
     "metadata": {},
     "output_type": "display_data"
    },
    {
     "name": "stdout",
     "output_type": "stream",
     "text": [
      "Train Loss: 0.000 | Accuracy: 31.631\n",
      "Test Loss: 0.000 | Accuracy: 29.798\n",
      "\n",
      "Epoch : 46\n"
     ]
    },
    {
     "data": {
      "application/vnd.jupyter.widget-view+json": {
       "model_id": "298ae21cfa654daebf96b2c979bc0a67",
       "version_major": 2,
       "version_minor": 0
      },
      "text/plain": [
       "  0%|          | 0/12 [00:00<?, ?it/s]"
      ]
     },
     "metadata": {},
     "output_type": "display_data"
    },
    {
     "name": "stdout",
     "output_type": "stream",
     "text": [
      "Train Loss: 0.000 | Accuracy: 31.471\n",
      "Test Loss: 0.000 | Accuracy: 29.945\n",
      "\n",
      "Epoch : 47\n"
     ]
    },
    {
     "data": {
      "application/vnd.jupyter.widget-view+json": {
       "model_id": "97ea881099d0441d9fd8ad1ddded7adf",
       "version_major": 2,
       "version_minor": 0
      },
      "text/plain": [
       "  0%|          | 0/12 [00:00<?, ?it/s]"
      ]
     },
     "metadata": {},
     "output_type": "display_data"
    },
    {
     "name": "stdout",
     "output_type": "stream",
     "text": [
      "Train Loss: 0.000 | Accuracy: 31.310\n",
      "Test Loss: 0.000 | Accuracy: 29.847\n",
      "\n",
      "Epoch : 48\n"
     ]
    },
    {
     "data": {
      "application/vnd.jupyter.widget-view+json": {
       "model_id": "86640d3ffc6345c5b5ef03047d3fd8bd",
       "version_major": 2,
       "version_minor": 0
      },
      "text/plain": [
       "  0%|          | 0/12 [00:00<?, ?it/s]"
      ]
     },
     "metadata": {},
     "output_type": "display_data"
    },
    {
     "name": "stdout",
     "output_type": "stream",
     "text": [
      "Train Loss: 0.000 | Accuracy: 31.471\n",
      "Test Loss: 0.000 | Accuracy: 29.749\n",
      "\n",
      "Epoch : 49\n"
     ]
    },
    {
     "data": {
      "application/vnd.jupyter.widget-view+json": {
       "model_id": "dda9d0e5d6c9473c94ff576e1be94af2",
       "version_major": 2,
       "version_minor": 0
      },
      "text/plain": [
       "  0%|          | 0/12 [00:00<?, ?it/s]"
      ]
     },
     "metadata": {},
     "output_type": "display_data"
    },
    {
     "name": "stdout",
     "output_type": "stream",
     "text": [
      "Train Loss: 0.000 | Accuracy: 31.684\n",
      "Test Loss: 0.000 | Accuracy: 29.995\n",
      "\n",
      "Epoch : 50\n"
     ]
    },
    {
     "data": {
      "application/vnd.jupyter.widget-view+json": {
       "model_id": "8ac2c1429b0e42ceaeff40b20ecf94f7",
       "version_major": 2,
       "version_minor": 0
      },
      "text/plain": [
       "  0%|          | 0/12 [00:00<?, ?it/s]"
      ]
     },
     "metadata": {},
     "output_type": "display_data"
    },
    {
     "name": "stdout",
     "output_type": "stream",
     "text": [
      "Train Loss: 0.000 | Accuracy: 31.364\n",
      "Test Loss: 0.000 | Accuracy: 29.896\n",
      "\n",
      "Epoch : 51\n"
     ]
    },
    {
     "data": {
      "application/vnd.jupyter.widget-view+json": {
       "model_id": "df688a16134e4824af4437db8e597d48",
       "version_major": 2,
       "version_minor": 0
      },
      "text/plain": [
       "  0%|          | 0/12 [00:00<?, ?it/s]"
      ]
     },
     "metadata": {},
     "output_type": "display_data"
    },
    {
     "name": "stdout",
     "output_type": "stream",
     "text": [
      "Train Loss: 0.000 | Accuracy: 31.471\n",
      "Test Loss: 0.000 | Accuracy: 29.798\n",
      "\n",
      "Epoch : 52\n"
     ]
    },
    {
     "data": {
      "application/vnd.jupyter.widget-view+json": {
       "model_id": "737121b6105744be9c7f2e3e1f30508c",
       "version_major": 2,
       "version_minor": 0
      },
      "text/plain": [
       "  0%|          | 0/12 [00:00<?, ?it/s]"
      ]
     },
     "metadata": {},
     "output_type": "display_data"
    },
    {
     "name": "stdout",
     "output_type": "stream",
     "text": [
      "Train Loss: 0.000 | Accuracy: 31.364\n",
      "Test Loss: 0.000 | Accuracy: 29.650\n",
      "\n",
      "Epoch : 53\n"
     ]
    },
    {
     "data": {
      "application/vnd.jupyter.widget-view+json": {
       "model_id": "d03d4df359c0476a86e26bc28699863b",
       "version_major": 2,
       "version_minor": 0
      },
      "text/plain": [
       "  0%|          | 0/12 [00:00<?, ?it/s]"
      ]
     },
     "metadata": {},
     "output_type": "display_data"
    },
    {
     "name": "stdout",
     "output_type": "stream",
     "text": [
      "Train Loss: 0.000 | Accuracy: 31.364\n",
      "Test Loss: 0.000 | Accuracy: 29.945\n",
      "\n",
      "Epoch : 54\n"
     ]
    },
    {
     "data": {
      "application/vnd.jupyter.widget-view+json": {
       "model_id": "c03b0796e6e24e97911c0d76092f2229",
       "version_major": 2,
       "version_minor": 0
      },
      "text/plain": [
       "  0%|          | 0/12 [00:00<?, ?it/s]"
      ]
     },
     "metadata": {},
     "output_type": "display_data"
    },
    {
     "name": "stdout",
     "output_type": "stream",
     "text": [
      "Train Loss: 0.000 | Accuracy: 31.417\n",
      "Test Loss: 0.000 | Accuracy: 29.749\n",
      "\n",
      "Epoch : 55\n"
     ]
    },
    {
     "data": {
      "application/vnd.jupyter.widget-view+json": {
       "model_id": "5b59b4df742a4c4c8eb11ccbc0c3a47b",
       "version_major": 2,
       "version_minor": 0
      },
      "text/plain": [
       "  0%|          | 0/12 [00:00<?, ?it/s]"
      ]
     },
     "metadata": {},
     "output_type": "display_data"
    },
    {
     "name": "stdout",
     "output_type": "stream",
     "text": [
      "Train Loss: 0.000 | Accuracy: 31.310\n",
      "Test Loss: 0.000 | Accuracy: 29.650\n",
      "\n",
      "Epoch : 56\n"
     ]
    },
    {
     "data": {
      "application/vnd.jupyter.widget-view+json": {
       "model_id": "3f51bf67b80d40f9999b596461f6b021",
       "version_major": 2,
       "version_minor": 0
      },
      "text/plain": [
       "  0%|          | 0/12 [00:00<?, ?it/s]"
      ]
     },
     "metadata": {},
     "output_type": "display_data"
    },
    {
     "name": "stdout",
     "output_type": "stream",
     "text": [
      "Train Loss: 0.000 | Accuracy: 31.417\n",
      "Test Loss: 0.000 | Accuracy: 29.847\n",
      "\n",
      "Epoch : 57\n"
     ]
    },
    {
     "data": {
      "application/vnd.jupyter.widget-view+json": {
       "model_id": "3618b1c3243e49978c1eff936abea380",
       "version_major": 2,
       "version_minor": 0
      },
      "text/plain": [
       "  0%|          | 0/12 [00:00<?, ?it/s]"
      ]
     },
     "metadata": {},
     "output_type": "display_data"
    },
    {
     "name": "stdout",
     "output_type": "stream",
     "text": [
      "Train Loss: 0.000 | Accuracy: 31.791\n",
      "Test Loss: 0.000 | Accuracy: 29.896\n",
      "\n",
      "Epoch : 58\n"
     ]
    },
    {
     "data": {
      "application/vnd.jupyter.widget-view+json": {
       "model_id": "ce7abcb7d8d74db4a1989cbc3b0e2cb8",
       "version_major": 2,
       "version_minor": 0
      },
      "text/plain": [
       "  0%|          | 0/12 [00:00<?, ?it/s]"
      ]
     },
     "metadata": {},
     "output_type": "display_data"
    },
    {
     "name": "stdout",
     "output_type": "stream",
     "text": [
      "Train Loss: 0.000 | Accuracy: 31.578\n",
      "Test Loss: 0.000 | Accuracy: 29.699\n",
      "\n",
      "Epoch : 59\n"
     ]
    },
    {
     "data": {
      "application/vnd.jupyter.widget-view+json": {
       "model_id": "49437f6f585e4da188f6e74bf60ad5d6",
       "version_major": 2,
       "version_minor": 0
      },
      "text/plain": [
       "  0%|          | 0/12 [00:00<?, ?it/s]"
      ]
     },
     "metadata": {},
     "output_type": "display_data"
    },
    {
     "name": "stdout",
     "output_type": "stream",
     "text": [
      "Train Loss: 0.000 | Accuracy: 31.791\n",
      "Test Loss: 0.000 | Accuracy: 29.650\n",
      "\n",
      "Epoch : 60\n"
     ]
    },
    {
     "data": {
      "application/vnd.jupyter.widget-view+json": {
       "model_id": "82e8c09e98f14704be268a993ebd8fea",
       "version_major": 2,
       "version_minor": 0
      },
      "text/plain": [
       "  0%|          | 0/12 [00:00<?, ?it/s]"
      ]
     },
     "metadata": {},
     "output_type": "display_data"
    },
    {
     "name": "stdout",
     "output_type": "stream",
     "text": [
      "Train Loss: 0.000 | Accuracy: 31.631\n",
      "Test Loss: 0.000 | Accuracy: 29.699\n",
      "\n",
      "Epoch : 61\n"
     ]
    },
    {
     "data": {
      "application/vnd.jupyter.widget-view+json": {
       "model_id": "776b1012213b42de9228e1a59a4e5a97",
       "version_major": 2,
       "version_minor": 0
      },
      "text/plain": [
       "  0%|          | 0/12 [00:00<?, ?it/s]"
      ]
     },
     "metadata": {},
     "output_type": "display_data"
    },
    {
     "name": "stdout",
     "output_type": "stream",
     "text": [
      "Train Loss: 0.000 | Accuracy: 31.471\n",
      "Test Loss: 0.000 | Accuracy: 29.552\n",
      "\n",
      "Epoch : 62\n"
     ]
    },
    {
     "data": {
      "application/vnd.jupyter.widget-view+json": {
       "model_id": "49730fcf5e9f49168e11fe8a8b4e1a30",
       "version_major": 2,
       "version_minor": 0
      },
      "text/plain": [
       "  0%|          | 0/12 [00:00<?, ?it/s]"
      ]
     },
     "metadata": {},
     "output_type": "display_data"
    },
    {
     "name": "stdout",
     "output_type": "stream",
     "text": [
      "Train Loss: 0.000 | Accuracy: 31.310\n",
      "Test Loss: 0.000 | Accuracy: 29.896\n",
      "\n",
      "Epoch : 63\n"
     ]
    },
    {
     "data": {
      "application/vnd.jupyter.widget-view+json": {
       "model_id": "39db1c57e74044dba885821329465019",
       "version_major": 2,
       "version_minor": 0
      },
      "text/plain": [
       "  0%|          | 0/12 [00:00<?, ?it/s]"
      ]
     },
     "metadata": {},
     "output_type": "display_data"
    },
    {
     "name": "stdout",
     "output_type": "stream",
     "text": [
      "Train Loss: 0.000 | Accuracy: 31.738\n",
      "Test Loss: 0.000 | Accuracy: 29.896\n",
      "\n",
      "Epoch : 64\n"
     ]
    },
    {
     "data": {
      "application/vnd.jupyter.widget-view+json": {
       "model_id": "14b08c46a4634570940a4d920f75a137",
       "version_major": 2,
       "version_minor": 0
      },
      "text/plain": [
       "  0%|          | 0/12 [00:00<?, ?it/s]"
      ]
     },
     "metadata": {},
     "output_type": "display_data"
    },
    {
     "name": "stdout",
     "output_type": "stream",
     "text": [
      "Train Loss: 0.000 | Accuracy: 31.684\n",
      "Test Loss: 0.000 | Accuracy: 29.995\n",
      "\n",
      "Epoch : 65\n"
     ]
    },
    {
     "data": {
      "application/vnd.jupyter.widget-view+json": {
       "model_id": "defc81c844264ba3bdb7f2455edaa881",
       "version_major": 2,
       "version_minor": 0
      },
      "text/plain": [
       "  0%|          | 0/12 [00:00<?, ?it/s]"
      ]
     },
     "metadata": {},
     "output_type": "display_data"
    },
    {
     "name": "stdout",
     "output_type": "stream",
     "text": [
      "Train Loss: 0.000 | Accuracy: 31.578\n",
      "Test Loss: 0.000 | Accuracy: 30.044\n",
      "\n",
      "Epoch : 66\n"
     ]
    },
    {
     "data": {
      "application/vnd.jupyter.widget-view+json": {
       "model_id": "20c2fc92db984465b9e5ea1b23f249e7",
       "version_major": 2,
       "version_minor": 0
      },
      "text/plain": [
       "  0%|          | 0/12 [00:00<?, ?it/s]"
      ]
     },
     "metadata": {},
     "output_type": "display_data"
    },
    {
     "name": "stdout",
     "output_type": "stream",
     "text": [
      "Train Loss: 0.000 | Accuracy: 31.631\n",
      "Test Loss: 0.000 | Accuracy: 29.749\n",
      "\n",
      "Epoch : 67\n"
     ]
    },
    {
     "data": {
      "application/vnd.jupyter.widget-view+json": {
       "model_id": "edefa38b3dcf49c18285643b97f44716",
       "version_major": 2,
       "version_minor": 0
      },
      "text/plain": [
       "  0%|          | 0/12 [00:00<?, ?it/s]"
      ]
     },
     "metadata": {},
     "output_type": "display_data"
    },
    {
     "name": "stdout",
     "output_type": "stream",
     "text": [
      "Train Loss: 0.000 | Accuracy: 31.898\n",
      "Test Loss: 0.000 | Accuracy: 29.896\n",
      "\n",
      "Epoch : 68\n"
     ]
    },
    {
     "data": {
      "application/vnd.jupyter.widget-view+json": {
       "model_id": "639c4bceb72b4e2bb031043e3efba1be",
       "version_major": 2,
       "version_minor": 0
      },
      "text/plain": [
       "  0%|          | 0/12 [00:00<?, ?it/s]"
      ]
     },
     "metadata": {},
     "output_type": "display_data"
    },
    {
     "name": "stdout",
     "output_type": "stream",
     "text": [
      "Train Loss: 0.000 | Accuracy: 31.578\n",
      "Test Loss: 0.000 | Accuracy: 29.749\n",
      "\n",
      "Epoch : 69\n"
     ]
    },
    {
     "data": {
      "application/vnd.jupyter.widget-view+json": {
       "model_id": "b0aef0b05cb945e693002bf26bac4075",
       "version_major": 2,
       "version_minor": 0
      },
      "text/plain": [
       "  0%|          | 0/12 [00:00<?, ?it/s]"
      ]
     },
     "metadata": {},
     "output_type": "display_data"
    },
    {
     "name": "stdout",
     "output_type": "stream",
     "text": [
      "Train Loss: 0.000 | Accuracy: 31.471\n",
      "Test Loss: 0.000 | Accuracy: 29.749\n",
      "\n",
      "Epoch : 70\n"
     ]
    },
    {
     "data": {
      "application/vnd.jupyter.widget-view+json": {
       "model_id": "193edee6d0cf48b89607d266cbeb4fc8",
       "version_major": 2,
       "version_minor": 0
      },
      "text/plain": [
       "  0%|          | 0/12 [00:00<?, ?it/s]"
      ]
     },
     "metadata": {},
     "output_type": "display_data"
    },
    {
     "name": "stdout",
     "output_type": "stream",
     "text": [
      "Train Loss: 0.000 | Accuracy: 31.524\n",
      "Test Loss: 0.000 | Accuracy: 29.601\n",
      "\n",
      "Epoch : 71\n"
     ]
    },
    {
     "data": {
      "application/vnd.jupyter.widget-view+json": {
       "model_id": "2d9e293166f040399f4d868cfa2a8952",
       "version_major": 2,
       "version_minor": 0
      },
      "text/plain": [
       "  0%|          | 0/12 [00:00<?, ?it/s]"
      ]
     },
     "metadata": {},
     "output_type": "display_data"
    },
    {
     "name": "stdout",
     "output_type": "stream",
     "text": [
      "Train Loss: 0.000 | Accuracy: 31.310\n",
      "Test Loss: 0.000 | Accuracy: 29.798\n",
      "\n",
      "Epoch : 72\n"
     ]
    },
    {
     "data": {
      "application/vnd.jupyter.widget-view+json": {
       "model_id": "36d3fbd524ee401cb1b5bb0deda5704b",
       "version_major": 2,
       "version_minor": 0
      },
      "text/plain": [
       "  0%|          | 0/12 [00:00<?, ?it/s]"
      ]
     },
     "metadata": {},
     "output_type": "display_data"
    },
    {
     "name": "stdout",
     "output_type": "stream",
     "text": [
      "Train Loss: 0.000 | Accuracy: 31.631\n",
      "Test Loss: 0.000 | Accuracy: 29.945\n",
      "\n",
      "Epoch : 73\n"
     ]
    },
    {
     "data": {
      "application/vnd.jupyter.widget-view+json": {
       "model_id": "982e71b2948b4faaa5e8feb851ca3df6",
       "version_major": 2,
       "version_minor": 0
      },
      "text/plain": [
       "  0%|          | 0/12 [00:00<?, ?it/s]"
      ]
     },
     "metadata": {},
     "output_type": "display_data"
    },
    {
     "name": "stdout",
     "output_type": "stream",
     "text": [
      "Train Loss: 0.000 | Accuracy: 31.364\n",
      "Test Loss: 0.000 | Accuracy: 29.650\n",
      "\n",
      "Epoch : 74\n"
     ]
    },
    {
     "data": {
      "application/vnd.jupyter.widget-view+json": {
       "model_id": "ff20a4b8cc274c03acff34f639e45640",
       "version_major": 2,
       "version_minor": 0
      },
      "text/plain": [
       "  0%|          | 0/12 [00:00<?, ?it/s]"
      ]
     },
     "metadata": {},
     "output_type": "display_data"
    },
    {
     "name": "stdout",
     "output_type": "stream",
     "text": [
      "Train Loss: 0.000 | Accuracy: 31.471\n",
      "Test Loss: 0.000 | Accuracy: 29.699\n",
      "\n",
      "Epoch : 75\n"
     ]
    },
    {
     "data": {
      "application/vnd.jupyter.widget-view+json": {
       "model_id": "1191f1a01f2740a891d082562adad034",
       "version_major": 2,
       "version_minor": 0
      },
      "text/plain": [
       "  0%|          | 0/12 [00:00<?, ?it/s]"
      ]
     },
     "metadata": {},
     "output_type": "display_data"
    },
    {
     "name": "stdout",
     "output_type": "stream",
     "text": [
      "Train Loss: 0.000 | Accuracy: 31.631\n",
      "Test Loss: 0.000 | Accuracy: 29.699\n",
      "\n",
      "Epoch : 76\n"
     ]
    },
    {
     "data": {
      "application/vnd.jupyter.widget-view+json": {
       "model_id": "1e24b3771e4b4120aa699eef08829cc4",
       "version_major": 2,
       "version_minor": 0
      },
      "text/plain": [
       "  0%|          | 0/12 [00:00<?, ?it/s]"
      ]
     },
     "metadata": {},
     "output_type": "display_data"
    },
    {
     "name": "stdout",
     "output_type": "stream",
     "text": [
      "Train Loss: 0.000 | Accuracy: 31.578\n",
      "Test Loss: 0.000 | Accuracy: 29.552\n",
      "\n",
      "Epoch : 77\n"
     ]
    },
    {
     "data": {
      "application/vnd.jupyter.widget-view+json": {
       "model_id": "2aaedf7f222c4fe7be452d9a7a6edbc9",
       "version_major": 2,
       "version_minor": 0
      },
      "text/plain": [
       "  0%|          | 0/12 [00:00<?, ?it/s]"
      ]
     },
     "metadata": {},
     "output_type": "display_data"
    },
    {
     "name": "stdout",
     "output_type": "stream",
     "text": [
      "Train Loss: 0.000 | Accuracy: 31.417\n",
      "Test Loss: 0.000 | Accuracy: 29.896\n",
      "\n",
      "Epoch : 78\n"
     ]
    },
    {
     "data": {
      "application/vnd.jupyter.widget-view+json": {
       "model_id": "badfc8e4980b429c87b7cdfea7478acc",
       "version_major": 2,
       "version_minor": 0
      },
      "text/plain": [
       "  0%|          | 0/12 [00:00<?, ?it/s]"
      ]
     },
     "metadata": {},
     "output_type": "display_data"
    },
    {
     "name": "stdout",
     "output_type": "stream",
     "text": [
      "Train Loss: 0.000 | Accuracy: 31.471\n",
      "Test Loss: 0.000 | Accuracy: 29.995\n",
      "\n",
      "Epoch : 79\n"
     ]
    },
    {
     "data": {
      "application/vnd.jupyter.widget-view+json": {
       "model_id": "77968eff99fd44749e18ff03a87d40db",
       "version_major": 2,
       "version_minor": 0
      },
      "text/plain": [
       "  0%|          | 0/12 [00:00<?, ?it/s]"
      ]
     },
     "metadata": {},
     "output_type": "display_data"
    },
    {
     "name": "stdout",
     "output_type": "stream",
     "text": [
      "Train Loss: 0.000 | Accuracy: 31.524\n",
      "Test Loss: 0.000 | Accuracy: 30.093\n",
      "\n",
      "Epoch : 80\n"
     ]
    },
    {
     "data": {
      "application/vnd.jupyter.widget-view+json": {
       "model_id": "e7771eb9e8a44212bdb9b8c48cee2684",
       "version_major": 2,
       "version_minor": 0
      },
      "text/plain": [
       "  0%|          | 0/12 [00:00<?, ?it/s]"
      ]
     },
     "metadata": {},
     "output_type": "display_data"
    },
    {
     "name": "stdout",
     "output_type": "stream",
     "text": [
      "Train Loss: 0.000 | Accuracy: 31.684\n",
      "Test Loss: 0.000 | Accuracy: 29.847\n",
      "\n",
      "Epoch : 81\n"
     ]
    },
    {
     "data": {
      "application/vnd.jupyter.widget-view+json": {
       "model_id": "79eb01859f74481f92e638471168485b",
       "version_major": 2,
       "version_minor": 0
      },
      "text/plain": [
       "  0%|          | 0/12 [00:00<?, ?it/s]"
      ]
     },
     "metadata": {},
     "output_type": "display_data"
    },
    {
     "name": "stdout",
     "output_type": "stream",
     "text": [
      "Train Loss: 0.000 | Accuracy: 31.471\n",
      "Test Loss: 0.000 | Accuracy: 29.798\n",
      "\n",
      "Epoch : 82\n"
     ]
    },
    {
     "data": {
      "application/vnd.jupyter.widget-view+json": {
       "model_id": "db7dce7f9516458abb205f8a46a644e8",
       "version_major": 2,
       "version_minor": 0
      },
      "text/plain": [
       "  0%|          | 0/12 [00:00<?, ?it/s]"
      ]
     },
     "metadata": {},
     "output_type": "display_data"
    },
    {
     "name": "stdout",
     "output_type": "stream",
     "text": [
      "Train Loss: 0.000 | Accuracy: 31.791\n",
      "Test Loss: 0.000 | Accuracy: 29.995\n",
      "\n",
      "Epoch : 83\n"
     ]
    },
    {
     "data": {
      "application/vnd.jupyter.widget-view+json": {
       "model_id": "56d67fd09c7e4cb6884898bef7141369",
       "version_major": 2,
       "version_minor": 0
      },
      "text/plain": [
       "  0%|          | 0/12 [00:00<?, ?it/s]"
      ]
     },
     "metadata": {},
     "output_type": "display_data"
    },
    {
     "name": "stdout",
     "output_type": "stream",
     "text": [
      "Train Loss: 0.000 | Accuracy: 31.631\n",
      "Test Loss: 0.000 | Accuracy: 29.896\n",
      "\n",
      "Epoch : 84\n"
     ]
    },
    {
     "data": {
      "application/vnd.jupyter.widget-view+json": {
       "model_id": "99d5e2022742420bbd296182fe358e3c",
       "version_major": 2,
       "version_minor": 0
      },
      "text/plain": [
       "  0%|          | 0/12 [00:00<?, ?it/s]"
      ]
     },
     "metadata": {},
     "output_type": "display_data"
    },
    {
     "name": "stdout",
     "output_type": "stream",
     "text": [
      "Train Loss: 0.000 | Accuracy: 31.471\n",
      "Test Loss: 0.000 | Accuracy: 29.798\n",
      "\n",
      "Epoch : 85\n"
     ]
    },
    {
     "data": {
      "application/vnd.jupyter.widget-view+json": {
       "model_id": "a4a2eec75fa6483cb44bcfb212712d70",
       "version_major": 2,
       "version_minor": 0
      },
      "text/plain": [
       "  0%|          | 0/12 [00:00<?, ?it/s]"
      ]
     },
     "metadata": {},
     "output_type": "display_data"
    },
    {
     "name": "stdout",
     "output_type": "stream",
     "text": [
      "Train Loss: 0.000 | Accuracy: 31.578\n",
      "Test Loss: 0.000 | Accuracy: 29.552\n",
      "\n",
      "Epoch : 86\n"
     ]
    },
    {
     "data": {
      "application/vnd.jupyter.widget-view+json": {
       "model_id": "38a53f0686ef48259b579a85da99dbdb",
       "version_major": 2,
       "version_minor": 0
      },
      "text/plain": [
       "  0%|          | 0/12 [00:00<?, ?it/s]"
      ]
     },
     "metadata": {},
     "output_type": "display_data"
    },
    {
     "name": "stdout",
     "output_type": "stream",
     "text": [
      "Train Loss: 0.000 | Accuracy: 31.578\n",
      "Test Loss: 0.000 | Accuracy: 29.798\n",
      "\n",
      "Epoch : 87\n"
     ]
    },
    {
     "data": {
      "application/vnd.jupyter.widget-view+json": {
       "model_id": "efb29aa6fbcc404b81e7722d500a8cfd",
       "version_major": 2,
       "version_minor": 0
      },
      "text/plain": [
       "  0%|          | 0/12 [00:00<?, ?it/s]"
      ]
     },
     "metadata": {},
     "output_type": "display_data"
    },
    {
     "name": "stdout",
     "output_type": "stream",
     "text": [
      "Train Loss: 0.000 | Accuracy: 31.471\n",
      "Test Loss: 0.000 | Accuracy: 29.749\n",
      "\n",
      "Epoch : 88\n"
     ]
    },
    {
     "data": {
      "application/vnd.jupyter.widget-view+json": {
       "model_id": "733748a0bc404af382ca44d3f6beb5a3",
       "version_major": 2,
       "version_minor": 0
      },
      "text/plain": [
       "  0%|          | 0/12 [00:00<?, ?it/s]"
      ]
     },
     "metadata": {},
     "output_type": "display_data"
    },
    {
     "name": "stdout",
     "output_type": "stream",
     "text": [
      "Train Loss: 0.000 | Accuracy: 31.738\n",
      "Test Loss: 0.000 | Accuracy: 29.945\n",
      "\n",
      "Epoch : 89\n"
     ]
    },
    {
     "data": {
      "application/vnd.jupyter.widget-view+json": {
       "model_id": "27fa100fb9004b088e2babc841ae51a7",
       "version_major": 2,
       "version_minor": 0
      },
      "text/plain": [
       "  0%|          | 0/12 [00:00<?, ?it/s]"
      ]
     },
     "metadata": {},
     "output_type": "display_data"
    },
    {
     "name": "stdout",
     "output_type": "stream",
     "text": [
      "Train Loss: 0.000 | Accuracy: 31.578\n",
      "Test Loss: 0.000 | Accuracy: 30.044\n",
      "\n",
      "Epoch : 90\n"
     ]
    },
    {
     "data": {
      "application/vnd.jupyter.widget-view+json": {
       "model_id": "17fc8c96d3e54420a758e82e3d627584",
       "version_major": 2,
       "version_minor": 0
      },
      "text/plain": [
       "  0%|          | 0/12 [00:00<?, ?it/s]"
      ]
     },
     "metadata": {},
     "output_type": "display_data"
    },
    {
     "name": "stdout",
     "output_type": "stream",
     "text": [
      "Train Loss: 0.000 | Accuracy: 31.364\n",
      "Test Loss: 0.000 | Accuracy: 29.945\n",
      "\n",
      "Epoch : 91\n"
     ]
    },
    {
     "data": {
      "application/vnd.jupyter.widget-view+json": {
       "model_id": "5334a715351f46fb8e91672b39ad45fd",
       "version_major": 2,
       "version_minor": 0
      },
      "text/plain": [
       "  0%|          | 0/12 [00:00<?, ?it/s]"
      ]
     },
     "metadata": {},
     "output_type": "display_data"
    },
    {
     "name": "stdout",
     "output_type": "stream",
     "text": [
      "Train Loss: 0.000 | Accuracy: 31.524\n",
      "Test Loss: 0.000 | Accuracy: 29.896\n",
      "\n",
      "Epoch : 92\n"
     ]
    },
    {
     "data": {
      "application/vnd.jupyter.widget-view+json": {
       "model_id": "05173726eca14f6091523f3c366dcbc3",
       "version_major": 2,
       "version_minor": 0
      },
      "text/plain": [
       "  0%|          | 0/12 [00:00<?, ?it/s]"
      ]
     },
     "metadata": {},
     "output_type": "display_data"
    },
    {
     "name": "stdout",
     "output_type": "stream",
     "text": [
      "Train Loss: 0.000 | Accuracy: 31.524\n",
      "Test Loss: 0.000 | Accuracy: 29.896\n",
      "\n",
      "Epoch : 93\n"
     ]
    },
    {
     "data": {
      "application/vnd.jupyter.widget-view+json": {
       "model_id": "1ddd693032204b998ca1a8babd2aa9b4",
       "version_major": 2,
       "version_minor": 0
      },
      "text/plain": [
       "  0%|          | 0/12 [00:00<?, ?it/s]"
      ]
     },
     "metadata": {},
     "output_type": "display_data"
    },
    {
     "name": "stdout",
     "output_type": "stream",
     "text": [
      "Train Loss: 0.000 | Accuracy: 31.364\n",
      "Test Loss: 0.000 | Accuracy: 29.798\n",
      "\n",
      "Epoch : 94\n"
     ]
    },
    {
     "data": {
      "application/vnd.jupyter.widget-view+json": {
       "model_id": "c3026165fe084367b27ea6cbd48e71c0",
       "version_major": 2,
       "version_minor": 0
      },
      "text/plain": [
       "  0%|          | 0/12 [00:00<?, ?it/s]"
      ]
     },
     "metadata": {},
     "output_type": "display_data"
    },
    {
     "name": "stdout",
     "output_type": "stream",
     "text": [
      "Train Loss: 0.000 | Accuracy: 31.684\n",
      "Test Loss: 0.000 | Accuracy: 29.650\n",
      "\n",
      "Epoch : 95\n"
     ]
    },
    {
     "data": {
      "application/vnd.jupyter.widget-view+json": {
       "model_id": "305d5669b23c420fa1b959b700cd76b9",
       "version_major": 2,
       "version_minor": 0
      },
      "text/plain": [
       "  0%|          | 0/12 [00:00<?, ?it/s]"
      ]
     },
     "metadata": {},
     "output_type": "display_data"
    },
    {
     "name": "stdout",
     "output_type": "stream",
     "text": [
      "Train Loss: 0.000 | Accuracy: 31.417\n",
      "Test Loss: 0.000 | Accuracy: 29.699\n",
      "\n",
      "Epoch : 96\n"
     ]
    },
    {
     "data": {
      "application/vnd.jupyter.widget-view+json": {
       "model_id": "b2beac4ec2944743ad215916750b472f",
       "version_major": 2,
       "version_minor": 0
      },
      "text/plain": [
       "  0%|          | 0/12 [00:00<?, ?it/s]"
      ]
     },
     "metadata": {},
     "output_type": "display_data"
    },
    {
     "name": "stdout",
     "output_type": "stream",
     "text": [
      "Train Loss: 0.000 | Accuracy: 31.631\n",
      "Test Loss: 0.000 | Accuracy: 29.847\n",
      "\n",
      "Epoch : 97\n"
     ]
    },
    {
     "data": {
      "application/vnd.jupyter.widget-view+json": {
       "model_id": "7bd13f91086f4d7b8e0d3e3328648da4",
       "version_major": 2,
       "version_minor": 0
      },
      "text/plain": [
       "  0%|          | 0/12 [00:00<?, ?it/s]"
      ]
     },
     "metadata": {},
     "output_type": "display_data"
    },
    {
     "name": "stdout",
     "output_type": "stream",
     "text": [
      "Train Loss: 0.000 | Accuracy: 31.471\n",
      "Test Loss: 0.000 | Accuracy: 29.650\n",
      "\n",
      "Epoch : 98\n"
     ]
    },
    {
     "data": {
      "application/vnd.jupyter.widget-view+json": {
       "model_id": "eae8fc2f6dea494b90e2a03fdd96c568",
       "version_major": 2,
       "version_minor": 0
      },
      "text/plain": [
       "  0%|          | 0/12 [00:00<?, ?it/s]"
      ]
     },
     "metadata": {},
     "output_type": "display_data"
    },
    {
     "name": "stdout",
     "output_type": "stream",
     "text": [
      "Train Loss: 0.000 | Accuracy: 31.631\n",
      "Test Loss: 0.000 | Accuracy: 29.650\n",
      "\n",
      "Epoch : 99\n"
     ]
    },
    {
     "data": {
      "application/vnd.jupyter.widget-view+json": {
       "model_id": "601fc36d856c4e4c9b3903bd75da173c",
       "version_major": 2,
       "version_minor": 0
      },
      "text/plain": [
       "  0%|          | 0/12 [00:00<?, ?it/s]"
      ]
     },
     "metadata": {},
     "output_type": "display_data"
    },
    {
     "name": "stdout",
     "output_type": "stream",
     "text": [
      "Train Loss: 0.000 | Accuracy: 31.578\n",
      "Test Loss: 0.000 | Accuracy: 29.699\n",
      "\n",
      "Epoch : 100\n"
     ]
    },
    {
     "data": {
      "application/vnd.jupyter.widget-view+json": {
       "model_id": "2c54e89379034577a3b4f9154bfd7d40",
       "version_major": 2,
       "version_minor": 0
      },
      "text/plain": [
       "  0%|          | 0/12 [00:00<?, ?it/s]"
      ]
     },
     "metadata": {},
     "output_type": "display_data"
    },
    {
     "name": "stdout",
     "output_type": "stream",
     "text": [
      "Train Loss: 0.000 | Accuracy: 31.738\n",
      "Test Loss: 0.000 | Accuracy: 29.847\n"
     ]
    }
   ],
   "source": [
    "from tqdm.auto import tqdm\n",
    "\n",
    "epochs=100\n",
    "for epoch in range(1,epochs+1): \n",
    "    train(epoch)\n",
    "    test(epoch)"
   ]
  },
  {
   "cell_type": "code",
   "execution_count": 43,
   "id": "b35742c2",
   "metadata": {},
   "outputs": [
    {
     "data": {
      "image/png": "[encoded data removed]",
      "text/plain": [
       "<Figure size 640x480 with 1 Axes>"
      ]
     },
     "metadata": {},
     "output_type": "display_data"
    }
   ],
   "source": [
    "import matplotlib.pyplot as plt\n",
    "plt.plot(train_accu,'-o')\n",
    "plt.plot(eval_accu,'-o')\n",
    "plt.xlabel('epoch')\n",
    "plt.ylabel('accuracy')\n",
    "plt.legend(['Train','Valid'])\n",
    "plt.title('Train vs Valid Accuracy')\n",
    " \n",
    "plt.show()"
   ]
  }
 ],
 "metadata": {
  "kernelspec": {
   "display_name": "Python 3 (ipykernel)",
   "language": "python",
   "name": "python3"
  },
  "language_info": {
   "codemirror_mode": {
    "name": "ipython",
    "version": 3
   },
   "file_extension": ".py",
   "mimetype": "text/x-python",
   "name": "python",
   "nbconvert_exporter": "python",
   "pygments_lexer": "ipython3",
   "version": "3.11.5"
  }
 },
 "nbformat": 4,
 "nbformat_minor": 5
}
